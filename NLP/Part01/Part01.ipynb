{
 "cells": [
  {
   "cell_type": "markdown",
   "metadata": {},
   "source": [
    "# Part - 01"
   ]
  },
  {
   "cell_type": "markdown",
   "metadata": {},
   "source": [
    "## 1. fstrings\n",
    "```python\n",
    "# These things are mostly needed for formating in spacy.\n",
    "```"
   ]
  },
  {
   "cell_type": "code",
   "execution_count": 16,
   "metadata": {},
   "outputs": [],
   "source": [
    "books = [('Name', 'Author', 'Pages'),\n",
    "        ('2666', 'Roberto Bolaño', 1055),\n",
    "        ('Desert Solitaire', 'Edward Abbey', 264),\n",
    "        ('Geek Love', 'Katherine Dunn', 272)]"
   ]
  },
  {
   "cell_type": "code",
   "execution_count": 17,
   "metadata": {},
   "outputs": [
    {
     "name": "stdout",
     "output_type": "stream",
     "text": [
      "[('Name', 'Author', 'Pages'), ('2666', 'Roberto Bolaño', 1055), ('Desert Solitaire', 'Edward Abbey', 264), ('Geek Love', 'Katherine Dunn', 272)]\n"
     ]
    }
   ],
   "source": [
    "print(books)"
   ]
  },
  {
   "cell_type": "code",
   "execution_count": 18,
   "metadata": {},
   "outputs": [
    {
     "name": "stdout",
     "output_type": "stream",
     "text": [
      "('Name', 'Author', 'Pages')\n",
      "('2666', 'Roberto Bolaño', 1055)\n",
      "('Desert Solitaire', 'Edward Abbey', 264)\n",
      "('Geek Love', 'Katherine Dunn', 272)\n"
     ]
    }
   ],
   "source": [
    "for book in books:\n",
    "    print(book)"
   ]
  },
  {
   "cell_type": "code",
   "execution_count": 19,
   "metadata": {},
   "outputs": [
    {
     "name": "stdout",
     "output_type": "stream",
     "text": [
      "The Name of the book is Name.\n",
      "The Author of the book is Author.\n",
      "There are Pages pages.\n",
      "The Name of the book is 2666.\n",
      "The Author of the book is Roberto Bolaño.\n",
      "There are 1055 pages.\n",
      "The Name of the book is Desert Solitaire.\n",
      "The Author of the book is Edward Abbey.\n",
      "There are 264 pages.\n",
      "The Name of the book is Geek Love.\n",
      "The Author of the book is Katherine Dunn.\n",
      "There are 272 pages.\n"
     ]
    }
   ],
   "source": [
    "for book_name, author, pages in books:\n",
    "    print(f'The Name of the book is {book_name}.')\n",
    "    print(f'The Author of the book is {author}.')\n",
    "    print(f'There are {pages} pages.')"
   ]
  },
  {
   "cell_type": "code",
   "execution_count": 20,
   "metadata": {},
   "outputs": [
    {
     "name": "stdout",
     "output_type": "stream",
     "text": [
      "Name Author Pages\n",
      "2666 Roberto Bolaño 1055\n",
      "Desert Solitaire Edward Abbey 264\n",
      "Geek Love Katherine Dunn 272\n"
     ]
    }
   ],
   "source": [
    "for book_name, author, pages in books:\n",
    "    print(f'{book_name} {author} {pages}')"
   ]
  },
  {
   "cell_type": "code",
   "execution_count": 21,
   "metadata": {},
   "outputs": [
    {
     "name": "stdout",
     "output_type": "stream",
     "text": [
      "Name                 Author               .....Pages\n",
      "2666                 Roberto Bolaño       ......1055\n",
      "Desert Solitaire     Edward Abbey         .......264\n",
      "Geek Love            Katherine Dunn       .......272\n"
     ]
    }
   ],
   "source": [
    "for book_name, author, pages in books:\n",
    "    print(f'{book_name:{20}} {author:{20}} {pages:.>{10}}')"
   ]
  },
  {
   "cell_type": "code",
   "execution_count": 22,
   "metadata": {},
   "outputs": [
    {
     "name": "stdout",
     "output_type": "stream",
     "text": [
      "October 10 2020\n"
     ]
    }
   ],
   "source": [
    "from datetime import datetime\n",
    "today = datetime.today()\n",
    "print(f'{today:%B %d %Y}')"
   ]
  },
  {
   "cell_type": "markdown",
   "metadata": {},
   "source": [
    "## 2. File Operations"
   ]
  },
  {
   "cell_type": "code",
   "execution_count": 23,
   "metadata": {},
   "outputs": [
    {
     "name": "stdout",
     "output_type": "stream",
     "text": [
      "Overwriting text.txt\n"
     ]
    }
   ],
   "source": [
    "%%writefile text.txt\n",
    "this is the first line\n",
    "this is the second line\n",
    "this is the third line"
   ]
  },
  {
   "cell_type": "code",
   "execution_count": 24,
   "metadata": {},
   "outputs": [],
   "source": [
    "newfile = open('text.txt')"
   ]
  },
  {
   "cell_type": "code",
   "execution_count": 25,
   "metadata": {},
   "outputs": [
    {
     "data": {
      "text/plain": [
       "'this is the first line\\nthis is the second line\\nthis is the third line\\n'"
      ]
     },
     "execution_count": 25,
     "metadata": {},
     "output_type": "execute_result"
    }
   ],
   "source": [
    "# Return's a the file data in string format.\n",
    "newfile.read()"
   ]
  },
  {
   "cell_type": "markdown",
   "metadata": {},
   "source": [
    "As the cursor has moved to eof. newfile.read() should return a empty string."
   ]
  },
  {
   "cell_type": "code",
   "execution_count": 26,
   "metadata": {},
   "outputs": [
    {
     "data": {
      "text/plain": [
       "''"
      ]
     },
     "execution_count": 26,
     "metadata": {},
     "output_type": "execute_result"
    }
   ],
   "source": [
    "newfile.read()"
   ]
  },
  {
   "cell_type": "code",
   "execution_count": 27,
   "metadata": {},
   "outputs": [
    {
     "data": {
      "text/plain": [
       "0"
      ]
     },
     "execution_count": 27,
     "metadata": {},
     "output_type": "execute_result"
    }
   ],
   "source": [
    "# The .seek method helps in moving the cursor around.\n",
    "newfile.seek(0)"
   ]
  },
  {
   "cell_type": "code",
   "execution_count": 28,
   "metadata": {},
   "outputs": [
    {
     "data": {
      "text/plain": [
       "'this is the first line\\nthis is the second line\\nthis is the third line\\n'"
      ]
     },
     "execution_count": 28,
     "metadata": {},
     "output_type": "execute_result"
    }
   ],
   "source": [
    "newfile.read()"
   ]
  },
  {
   "cell_type": "code",
   "execution_count": 29,
   "metadata": {},
   "outputs": [
    {
     "data": {
      "text/plain": [
       "0"
      ]
     },
     "execution_count": 29,
     "metadata": {},
     "output_type": "execute_result"
    }
   ],
   "source": [
    "newfile.seek(0)"
   ]
  },
  {
   "cell_type": "code",
   "execution_count": 30,
   "metadata": {},
   "outputs": [
    {
     "name": "stdout",
     "output_type": "stream",
     "text": [
      "this is the first line\n",
      "this is the second line\n",
      "this is the third line\n"
     ]
    }
   ],
   "source": [
    "# You can also read the file line wise using the readline method.\n",
    "# It return's a list of strings with each element denoting a newline.\n",
    "doc = newfile.readlines()\n",
    "for lines in doc:\n",
    "    print(lines, end='')"
   ]
  },
  {
   "cell_type": "code",
   "execution_count": 31,
   "metadata": {},
   "outputs": [],
   "source": [
    "# You need to close the files after you are done with working on it.\n",
    "# It can cause errors like the file is in use from some other program.\n",
    "newfile.close()"
   ]
  },
  {
   "cell_type": "code",
   "execution_count": 32,
   "metadata": {},
   "outputs": [],
   "source": [
    "# Writing onto a file\n",
    "# 1. Truncation writing mode.\n",
    "newfile = open('text.txt', 'w+')"
   ]
  },
  {
   "cell_type": "code",
   "execution_count": 33,
   "metadata": {},
   "outputs": [
    {
     "data": {
      "text/plain": [
       "52"
      ]
     },
     "execution_count": 33,
     "metadata": {},
     "output_type": "execute_result"
    }
   ],
   "source": [
    "# When file is opened in w+ mode it repaces the current content of the file.\n",
    "# when something is written onto it.\n",
    "newfile.write('This is a message that replaces the previous message')"
   ]
  },
  {
   "cell_type": "code",
   "execution_count": 34,
   "metadata": {},
   "outputs": [
    {
     "data": {
      "text/plain": [
       "'This is a message that replaces the previous message'"
      ]
     },
     "execution_count": 34,
     "metadata": {},
     "output_type": "execute_result"
    }
   ],
   "source": [
    "newfile.seek(0)\n",
    "newfile.read()"
   ]
  },
  {
   "cell_type": "code",
   "execution_count": 35,
   "metadata": {},
   "outputs": [],
   "source": [
    "newfile.close()"
   ]
  },
  {
   "cell_type": "code",
   "execution_count": 36,
   "metadata": {},
   "outputs": [],
   "source": [
    "# The replacement of the data can be prevented using the append mode.\n",
    "# Creates a file if it does not exists.\n",
    "newfile = open('text.txt', 'a+')"
   ]
  },
  {
   "cell_type": "code",
   "execution_count": 37,
   "metadata": {},
   "outputs": [
    {
     "data": {
      "text/plain": [
       "'This is a message that replaces the previous message'"
      ]
     },
     "execution_count": 37,
     "metadata": {},
     "output_type": "execute_result"
    }
   ],
   "source": [
    "newfile.seek(0)\n",
    "newfile.read()"
   ]
  },
  {
   "cell_type": "code",
   "execution_count": 38,
   "metadata": {},
   "outputs": [
    {
     "data": {
      "text/plain": [
       "19"
      ]
     },
     "execution_count": 38,
     "metadata": {},
     "output_type": "execute_result"
    }
   ],
   "source": [
    "newfile.write('\\nwriting a new line')"
   ]
  },
  {
   "cell_type": "code",
   "execution_count": 39,
   "metadata": {},
   "outputs": [
    {
     "name": "stdout",
     "output_type": "stream",
     "text": [
      "This is a message that replaces the previous message\n",
      "writing a new line\n"
     ]
    }
   ],
   "source": [
    "newfile.seek(0)\n",
    "print(newfile.read())"
   ]
  },
  {
   "cell_type": "code",
   "execution_count": 40,
   "metadata": {},
   "outputs": [],
   "source": [
    "newfile.close()"
   ]
  },
  {
   "cell_type": "code",
   "execution_count": 41,
   "metadata": {},
   "outputs": [
    {
     "name": "stdout",
     "output_type": "stream",
     "text": [
      "['This is a message that replaces the previous message\\n', 'writing a new line']\n"
     ]
    }
   ],
   "source": [
    "# Context manager for opening and closing of files.\n",
    "with open('text.txt', 'r') as newfile:\n",
    "    print(newfile.readlines())"
   ]
  },
  {
   "cell_type": "markdown",
   "metadata": {},
   "source": [
    "## 3. PyPDF"
   ]
  },
  {
   "cell_type": "code",
   "execution_count": 42,
   "metadata": {},
   "outputs": [],
   "source": [
    "# Module for reading pdf files.\n",
    "import PyPDF2"
   ]
  },
  {
   "cell_type": "code",
   "execution_count": 43,
   "metadata": {},
   "outputs": [
    {
     "name": "stdout",
     "output_type": "stream",
     "text": [
      "Business_Proposal.pdf  US_Declaration.pdf     text.txt\r\n",
      "Some_New_Doc.pdf       Untitled.ipynb\r\n"
     ]
    }
   ],
   "source": [
    "ls"
   ]
  },
  {
   "cell_type": "code",
   "execution_count": 57,
   "metadata": {},
   "outputs": [
    {
     "data": {
      "text/plain": [
       "5"
      ]
     },
     "execution_count": 57,
     "metadata": {},
     "output_type": "execute_result"
    }
   ],
   "source": [
    "# Reading the file in binary format.\n",
    "myfile = open('US_Declaration.pdf', 'rb')\n",
    "pdf_reader = PyPDF2.PdfFileReader(myfile)\n",
    "pdf_reader.numPages"
   ]
  },
  {
   "cell_type": "code",
   "execution_count": null,
   "metadata": {},
   "outputs": [],
   "source": [
    "page_one = pdf_reader.getPage(0)\n",
    "# I am not running this command because, it takes too much paper-space.\n",
    "page_one.extractText()"
   ]
  },
  {
   "cell_type": "code",
   "execution_count": 58,
   "metadata": {},
   "outputs": [],
   "source": [
    "myfile.close()\n",
    "# Copy and appending pdf pages.\n",
    "f = open('US_Declaration.pdf', 'rb')\n",
    "pdf_reader = PyPDF2.PdfFileReader(f)\n",
    "first_page = pdf_reader.getPage(0)\n",
    "pdf_writer = PyPDF2.PdfFileWriter()\n",
    "pdf_writer.addPage(first_page)\n",
    "pdf_output = open('doc01.pdf', 'wb')\n",
    "pdf_writer.write(pdf_output)\n",
    "pdf_output.close()\n",
    "f.close()"
   ]
  },
  {
   "cell_type": "markdown",
   "metadata": {},
   "source": [
    "## 3. Regular Expressions"
   ]
  },
  {
   "cell_type": "code",
   "execution_count": 59,
   "metadata": {},
   "outputs": [],
   "source": [
    "import re"
   ]
  },
  {
   "cell_type": "code",
   "execution_count": 61,
   "metadata": {},
   "outputs": [],
   "source": [
    "pattern = 'phone'\n",
    "statement = 'I use a iphone'\n",
    "my_match = re.search(pattern, statement)"
   ]
  },
  {
   "cell_type": "code",
   "execution_count": 63,
   "metadata": {},
   "outputs": [
    {
     "name": "stdout",
     "output_type": "stream",
     "text": [
      "(9, 14)\n",
      "9\n",
      "14\n"
     ]
    }
   ],
   "source": [
    "print(my_match.span())\n",
    "print(my_match.start())\n",
    "print(my_match.end())"
   ]
  },
  {
   "cell_type": "code",
   "execution_count": 70,
   "metadata": {},
   "outputs": [
    {
     "name": "stdout",
     "output_type": "stream",
     "text": [
      "['scream', 'scream', 'scream']\n"
     ]
    }
   ],
   "source": [
    "pattern = 'scream'\n",
    "t_twister = 'I scream, You scream, We all scream for Icecream.'\n",
    "# Returns a list.\n",
    "my_match = re.findall(pattern, t_twister)\n",
    "print(my_match)"
   ]
  },
  {
   "cell_type": "code",
   "execution_count": 73,
   "metadata": {},
   "outputs": [
    {
     "name": "stdout",
     "output_type": "stream",
     "text": [
      "(2, 8)\n",
      "(14, 20)\n",
      "(29, 35)\n"
     ]
    }
   ],
   "source": [
    "rec = re.finditer(pattern, t_twister)\n",
    "for match in rec:\n",
    "    print(match.span())"
   ]
  },
  {
   "cell_type": "code",
   "execution_count": 74,
   "metadata": {},
   "outputs": [],
   "source": [
    "pattern = r'\\d{3}-\\d{3}-\\d{4}'"
   ]
  },
  {
   "cell_type": "code",
   "execution_count": 76,
   "metadata": {},
   "outputs": [
    {
     "name": "stdout",
     "output_type": "stream",
     "text": [
      "316-339-9223 944-675-7803 157-689-6009 492-327-1352 393-418-2021 808-279-6798 699-367-1872 391-441-8104 176-871-3808 558-320-5012\n"
     ]
    }
   ],
   "source": [
    "from random import randint\n",
    "number_list = []\n",
    "for i in range(10):\n",
    "    first_part = randint(100, 999)\n",
    "    second_part = randint(100, 999)\n",
    "    third_part = randint(1000, 9999)\n",
    "    ph_no = f'{first_part}-{second_part}-{third_part}'\n",
    "    number_list.append(ph_no)\n",
    "number_list = ' '.join(number_list)\n",
    "print(number_list)"
   ]
  },
  {
   "cell_type": "code",
   "execution_count": 77,
   "metadata": {},
   "outputs": [
    {
     "name": "stdout",
     "output_type": "stream",
     "text": [
      "(0, 12)\n",
      "(13, 25)\n",
      "(26, 38)\n",
      "(39, 51)\n",
      "(52, 64)\n",
      "(65, 77)\n",
      "(78, 90)\n",
      "(91, 103)\n",
      "(104, 116)\n",
      "(117, 129)\n"
     ]
    }
   ],
   "source": [
    "rec = re.finditer(pattern, number_list)\n",
    "for match in rec:\n",
    "    print(match.span())"
   ]
  },
  {
   "cell_type": "code",
   "execution_count": null,
   "metadata": {},
   "outputs": [],
   "source": []
  }
 ],
 "metadata": {
  "kernelspec": {
   "display_name": "Python 3",
   "language": "python",
   "name": "python3"
  },
  "language_info": {
   "codemirror_mode": {
    "name": "ipython",
    "version": 3
   },
   "file_extension": ".py",
   "mimetype": "text/x-python",
   "name": "python",
   "nbconvert_exporter": "python",
   "pygments_lexer": "ipython3",
   "version": "3.8.5"
  }
 },
 "nbformat": 4,
 "nbformat_minor": 4
}
